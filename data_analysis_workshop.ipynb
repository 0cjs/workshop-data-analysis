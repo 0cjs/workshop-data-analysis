{
  "nbformat": 4,
  "nbformat_minor": 0,
  "metadata": {
    "colab": {
      "name": "Data Analysis Workshop.ipynb",
      "provenance": [],
      "collapsed_sections": [],
      "authorship_tag": "ABX9TyNNe0MVYJ2BkodAVyVTEtdo"
    },
    "kernelspec": {
      "name": "python3",
      "display_name": "Python 3"
    }
  },
  "cells": [
    {
      "cell_type": "markdown",
      "metadata": {
        "id": "Z1Xh4PwpKmDA",
        "colab_type": "text"
      },
      "source": [
        "# Data Science Workshop: Data Analysis with Python\n",
        "\n"
      ]
    },
    {
      "cell_type": "markdown",
      "metadata": {
        "id": "e7QgFhC4E4fn",
        "colab_type": "text"
      },
      "source": [
        "## Introduction about this notebook\n",
        "\n",
        "A Jupyter Notebook (or Colab Notebook in this instance) is a document format that bridges the gap between a traditional word processor and a code editor. **This notebook document allows executable code and nicely formatted text to live side-by-side.** Python code can be written and executed within a clear and detailed context describing the thought process and implementation of a data science project.\n",
        "\n",
        "The cell below is a code cell. To run the code within it, first select it then click the play icon on the left, or **simply hit `[shift] + [enter]`**."
      ]
    },
    {
      "cell_type": "code",
      "metadata": {
        "id": "7dfPo6WLF_xf",
        "colab_type": "code",
        "colab": {}
      },
      "source": [
        "print(\"That is some fancy piece of code!\")\n",
        "print(\"1 + 1 makes\", 1 + 1)"
      ],
      "execution_count": 0,
      "outputs": []
    },
    {
      "cell_type": "markdown",
      "metadata": {
        "id": "LXhoOd_-GE1G",
        "colab_type": "text"
      },
      "source": [
        "You have just executed some Python code! Below the code cell, you should have the following result:\n",
        "> ```\n",
        "That is some fancy piece of code!\n",
        "1 + 1 makes 2\n",
        "```\n",
        "\n",
        "Please note that the code in a cell is only executed when you run the cell, which means you can choose to run cells in the notebook in any order that you wish. It means the physical order of where the code appears in the notebook does not necessarily determine the order of when it is run. Because the variables in your coding environment change everytime a cell is run, the same cell may return different results depending on the order of execution.\n",
        "\n",
        "> **Make sure to run each cell while you go through this notebook.**\n",
        "\n",
        "If you think you are not getting the expected results and would like to reset your notebook, just click in the toolbar on `Runtime > Restart runtime...`. Then execute each cell in order of appearance in the document, from top to bottom.\n",
        "\n",
        "And now...\n",
        "\n",
        "## Let's get started!\n",
        "\n",
        "The cell below imports Python libraries that we will be using in our project. They allow us to utilize useful functions to process and analyse our data.\n",
        "\n",
        "Basically every data science notebook will start with a cell like that one. Make sure you run it first!\n",
        "\n",
        "> **Reminder:**  \n",
        "> Select the cell and press `[shift] + [enter]` to run it."
      ]
    },
    {
      "cell_type": "code",
      "metadata": {
        "id": "ovHwfixnK3P6",
        "colab_type": "code",
        "colab": {}
      },
      "source": [
        "import numpy as np              # Python Math library\n",
        "import pandas as pd             # Python Data Analysis library  \n",
        "%matplotlib inline\n",
        "import matplotlib.pyplot as plt   # Library to plot our charts"
      ],
      "execution_count": 0,
      "outputs": []
    },
    {
      "cell_type": "markdown",
      "metadata": {
        "id": "2qbOfECKL9kE",
        "colab_type": "text"
      },
      "source": [
        "### How to find a dataset?\n",
        "\n",
        "There are a lot of great sources to obtain data on the web. For example, many datasets are available on [Kaggle](https://www.kaggle.com/datasets) and [GitHub](https://github.com/awesomedata/awesome-public-datasets)\n",
        "\n",
        "Today, we will be working with this dataset by Johns Hopkins CSSE ([2019 Novel Coronavirus COVID-19 (2019-nCoV) Data Repository](https://github.com/CSSEGISandData/COVID-19)) which contains daily updated numbers on the COVID-19 outbreak. This dataset is publicly available on GitHub.\n",
        "\n",
        "### Importing data from the web\n",
        "\n",
        "This is a good way to showcase how useful notebooks can be in comparison to a traditional spreadsheet... We can very simply write a few lines of Python code to **automatically download our dataset from the web or APIs**. In this case, we are downloading csv files from a GitHub repository. Even though are updated daily, we can simply re-run the cell to fetch the latest version of the data."
      ]
    },
    {
      "cell_type": "code",
      "metadata": {
        "id": "shs-m6nKL4Gq",
        "colab_type": "code",
        "colab": {}
      },
      "source": [
        "import os, requests\n",
        "\n",
        "# The csv files we will download from GitHub\n",
        "filenames = [\"time_series_19-covid-Confirmed.csv\", \"time_series_19-covid-Deaths.csv\", \"time_series_19-covid-Recovered.csv\"]\n",
        "url = \"https://raw.githubusercontent.com/CSSEGISandData/COVID-19/master/csse_covid_19_data/csse_covid_19_time_series/\"\n",
        "\n",
        "# Creating a /data directory for our notebook\n",
        "if not os.path.exists('data'):\n",
        "    os.mkdir('data')\n",
        "\n",
        "# Downloading the csv files in /data\n",
        "for filename in filenames:\n",
        "    print(f\"Downloading {filename}...\")\n",
        "    r = requests.get(url + filename, allow_redirects=True)\n",
        "    open('data/' + filename, 'wb').write(r.content)\n",
        "    \n",
        "print(\"Download complete.\")"
      ],
      "execution_count": 0,
      "outputs": []
    },
    {
      "cell_type": "markdown",
      "metadata": {
        "id": "mtscj1wrBojr",
        "colab_type": "text"
      },
      "source": [
        "## Our first dataframe\n",
        "\n",
        "A dataframe is a pandas object that we can manipulate using pandas functions. Think of it like a code representation of an excel spreadsheet.\n",
        "\n",
        "Let's create a dataframe by loading our first CSV file into our notebook! You can do this with the `read_csv` function.\n",
        "\n",
        "```python\n",
        "filepath = \"data/time_series_19-covid-Recovered.csv\"\n",
        "recovered_df = pd.read_csv(filepath)\n",
        "```"
      ]
    },
    {
      "cell_type": "code",
      "metadata": {
        "id": "h4Ol23w1MDl6",
        "colab_type": "code",
        "colab": {}
      },
      "source": [
        "### TODO ###\n",
        "# Open \"data/time_series_19-covid-Recovered.csv\" using pd.read_csv(filepath)\n",
        "\n",
        "filepath = \"data/time_series_19-covid-Recovered.csv\"\n",
        "recovered_df = pd.read_csv(filepath)"
      ],
      "execution_count": 0,
      "outputs": []
    },
    {
      "cell_type": "markdown",
      "metadata": {
        "id": "-NurnVZ1BuYU",
        "colab_type": "text"
      },
      "source": [
        "Let's see what's in our newly created dataframe by calling the variable `recovered_df`:"
      ]
    },
    {
      "cell_type": "code",
      "metadata": {
        "id": "NgReuAFsBq9w",
        "colab_type": "code",
        "colab": {}
      },
      "source": [
        "recovered_df"
      ],
      "execution_count": 0,
      "outputs": []
    },
    {
      "cell_type": "markdown",
      "metadata": {
        "id": "OuLWQAtTsyOd",
        "colab_type": "text"
      },
      "source": [
        "### Get a quick sense of the data"
      ]
    },
    {
      "cell_type": "code",
      "metadata": {
        "id": "poXnY6grUM3Y",
        "colab_type": "code",
        "colab": {}
      },
      "source": [
        "recovered_df.shape"
      ],
      "execution_count": 0,
      "outputs": []
    },
    {
      "cell_type": "code",
      "metadata": {
        "id": "QVM09wVhUoAU",
        "colab_type": "code",
        "colab": {}
      },
      "source": [
        "recovered_df.columns"
      ],
      "execution_count": 0,
      "outputs": []
    },
    {
      "cell_type": "code",
      "metadata": {
        "id": "yNVGnJCZUqi9",
        "colab_type": "code",
        "colab": {}
      },
      "source": [
        "recovered_df.dtypes"
      ],
      "execution_count": 0,
      "outputs": []
    },
    {
      "cell_type": "markdown",
      "metadata": {
        "id": "dBYM04-NU-DX",
        "colab_type": "text"
      },
      "source": [
        "### Take a quick look inside the data"
      ]
    },
    {
      "cell_type": "markdown",
      "metadata": {
        "id": "5sejH9YxVIze",
        "colab_type": "text"
      },
      "source": [
        "Show the first rows using `head()`:\n",
        "```\n",
        "recovered_df.head(10)\n",
        "```"
      ]
    },
    {
      "cell_type": "code",
      "metadata": {
        "id": "27t6GpuuUrTm",
        "colab_type": "code",
        "colab": {}
      },
      "source": [
        "recovered_df.head(10)"
      ],
      "execution_count": 0,
      "outputs": []
    },
    {
      "cell_type": "code",
      "metadata": {
        "id": "KU2vSxfMVHfb",
        "colab_type": "code",
        "colab": {}
      },
      "source": [
        "recovered_df.tail(10)"
      ],
      "execution_count": 0,
      "outputs": []
    },
    {
      "cell_type": "markdown",
      "metadata": {
        "id": "_8nB-CkIV3H7",
        "colab_type": "text"
      },
      "source": [
        "## Exploring the data"
      ]
    },
    {
      "cell_type": "markdown",
      "metadata": {
        "id": "O_LNNE8ytIOj",
        "colab_type": "text"
      },
      "source": [
        "### Getting one column"
      ]
    },
    {
      "cell_type": "code",
      "metadata": {
        "id": "0TKAGoMQtKZm",
        "colab_type": "code",
        "colab": {}
      },
      "source": [
        "recovered_df[\"Country/Region\"]"
      ],
      "execution_count": 0,
      "outputs": []
    },
    {
      "cell_type": "markdown",
      "metadata": {
        "id": "qgzddN6ZtSQT",
        "colab_type": "text"
      },
      "source": [
        "### Getting a list of rows"
      ]
    },
    {
      "cell_type": "code",
      "metadata": {
        "id": "Au1EX-U-tUP6",
        "colab_type": "code",
        "colab": {}
      },
      "source": [
        "recovered_df[10:20]"
      ],
      "execution_count": 0,
      "outputs": []
    },
    {
      "cell_type": "markdown",
      "metadata": {
        "id": "VQSAkF3PtYxg",
        "colab_type": "text"
      },
      "source": [
        "### Getting a cell\n",
        "\n",
        "```\n",
        "recovered_df.log[row_indexer, column_indexer]\n",
        "```"
      ]
    },
    {
      "cell_type": "code",
      "metadata": {
        "id": "oqVY8UJot6oK",
        "colab_type": "code",
        "colab": {}
      },
      "source": [
        "recovered_df.log[3, \"Country/Region\"]"
      ],
      "execution_count": 0,
      "outputs": []
    },
    {
      "cell_type": "markdown",
      "metadata": {
        "id": "gjFmes5WuPaM",
        "colab_type": "text"
      },
      "source": [
        "### Filtering using boolean indexing"
      ]
    },
    {
      "cell_type": "markdown",
      "metadata": {
        "id": "RH5zjqt-Wzo9",
        "colab_type": "text"
      },
      "source": [
        "Selecting data based on the value in the column `Country/Region`.\n",
        "```python\n",
        "only_japan = recovered_df[\"Country/Region\"] == \"Japan\"\n",
        "recovered_df[only_japan]\n",
        "```"
      ]
    },
    {
      "cell_type": "code",
      "metadata": {
        "id": "xbPkGLKPVwY4",
        "colab_type": "code",
        "colab": {}
      },
      "source": [
        "only_japan = recovered_df[\"Country/Region\"] == \"Japan\"\n",
        "recovered_df[only_japan]"
      ],
      "execution_count": 0,
      "outputs": []
    },
    {
      "cell_type": "code",
      "metadata": {
        "id": "i2gPHNqoWnVL",
        "colab_type": "code",
        "colab": {}
      },
      "source": [
        "recovered_df[\"Country/Region\"] == \"Korea\"\n",
        "# Doesn't return any row because the value doesn't match exactly."
      ],
      "execution_count": 0,
      "outputs": []
    },
    {
      "cell_type": "markdown",
      "metadata": {
        "id": "vI74gJYIaGL0",
        "colab_type": "text"
      },
      "source": [
        "Select rows that include a string in column `Country/Region` using `str.contains()`"
      ]
    },
    {
      "cell_type": "code",
      "metadata": {
        "id": "ecrhUHyGXeHm",
        "colab_type": "code",
        "colab": {}
      },
      "source": [
        "only_korea = recovered_df[\"Country/Region\"].str.contains(\"Korea\")\n",
        "recovered_df[only_korea]"
      ],
      "execution_count": 0,
      "outputs": []
    },
    {
      "cell_type": "markdown",
      "metadata": {
        "id": "wXvK0YR9sZFu",
        "colab_type": "text"
      },
      "source": [
        "## Clean up and process the data"
      ]
    },
    {
      "cell_type": "markdown",
      "metadata": {
        "id": "DF7065zba2GV",
        "colab_type": "text"
      },
      "source": [
        "Remove unused columns using `drop(columns)`"
      ]
    },
    {
      "cell_type": "code",
      "metadata": {
        "id": "kc3Rh8ngYG1o",
        "colab_type": "code",
        "colab": {}
      },
      "source": [
        "recovered_df.drop([\"Province/State\", \"Lat\", \"Long\"], axis=1)"
      ],
      "execution_count": 0,
      "outputs": []
    },
    {
      "cell_type": "code",
      "metadata": {
        "id": "K12In-ZNbP5b",
        "colab_type": "code",
        "colab": {}
      },
      "source": [
        "recovered_df.groupby('Country/Region').sum()"
      ],
      "execution_count": 0,
      "outputs": []
    },
    {
      "cell_type": "code",
      "metadata": {
        "id": "qvYqILyPgPj6",
        "colab_type": "code",
        "colab": {}
      },
      "source": [
        "recovered_df.transpose()"
      ],
      "execution_count": 0,
      "outputs": []
    },
    {
      "cell_type": "code",
      "metadata": {
        "id": "nmKS0U5PjPZu",
        "colab_type": "code",
        "colab": {}
      },
      "source": [
        "recovered_df"
      ],
      "execution_count": 0,
      "outputs": []
    },
    {
      "cell_type": "code",
      "metadata": {
        "id": "RJAkgdnGdATg",
        "colab_type": "code",
        "colab": {}
      },
      "source": [
        "def preprocess(data):\n",
        "    # START YOUR CODE\n",
        "    # Step 1. Drop the 'Province/State', 'Lat' and 'Long' columns.\n",
        "    # Hint: don't forget the axis=1 parameter to target columns.\n",
        "    data = data.drop([\"Province/State\", \"Lat\", \"Long\"], axis=1)\n",
        "    # Step 2. Set the 'Country/Region' column as index\n",
        "    data = data.set_index('Country/Region')\n",
        "    # Step 3. Sum over all the rows\n",
        "    data = data.sum()\n",
        "    # END\n",
        "    return data"
      ],
      "execution_count": 0,
      "outputs": []
    },
    {
      "cell_type": "code",
      "metadata": {
        "id": "6bpHBQ8wjzz_",
        "colab_type": "code",
        "colab": {}
      },
      "source": [
        "preprocess(recovered_df)"
      ],
      "execution_count": 0,
      "outputs": []
    },
    {
      "cell_type": "markdown",
      "metadata": {
        "id": "ySOb94Nvsef2",
        "colab_type": "text"
      },
      "source": [
        "## Plot charts"
      ]
    },
    {
      "cell_type": "code",
      "metadata": {
        "id": "vDkYWt-IgIDs",
        "colab_type": "code",
        "colab": {}
      },
      "source": [
        "deaths_df = pd.read_csv(\"data/time_series_19-covid-Deaths.csv\")\n",
        "plt.plot(preprocess(recovered_df), color='g')\n",
        "plt.plot(preprocess(deaths_df), color='r')"
      ],
      "execution_count": 0,
      "outputs": []
    }
  ]
}